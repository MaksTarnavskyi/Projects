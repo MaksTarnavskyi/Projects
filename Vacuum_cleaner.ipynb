{
 "cells": [
  {
   "cell_type": "markdown",
   "metadata": {},
   "source": [
    "# Задача про пилосос "
   ]
  },
  {
   "cell_type": "markdown",
   "metadata": {},
   "source": [
    "### Потсановка задачі\n",
    "\n",
    "Задано гральне поле розміром (5x5), по якому рухається пилосос. Він може рухатись на одну клітинку вгору, вниз, вліво та вправо. На кожному кроці з ймовірністю 0.5 на будь-якій вільній клітинці з'являється сміття. Задача полягає в тому, щоб мінімізувати кількість клітинок з сміттям після 100-того кроку. Пилосос починає свій рух у верхньому лівому кутку. "
   ]
  },
  {
   "cell_type": "markdown",
   "metadata": {},
   "source": [
    "# Реалізація алгоритму"
   ]
  },
  {
   "cell_type": "code",
   "execution_count": 92,
   "metadata": {},
   "outputs": [],
   "source": [
    "import numpy as np\n",
    "from IPython.display import clear_output\n",
    "import time\n",
    "import seaborn as snb\n",
    "import copy\n",
    "\n",
    "class Magic_vacuum_cleaner():\n",
    "    def __init__(self, n=5, i=100, debug_mode=False, algo=True):\n",
    "        self.n = n\n",
    "        self.i = i\n",
    "        self.debug_mode = debug_mode\n",
    "        self.f = np.zeros((self.n, self.n),dtype=int)\n",
    "        self.count_be_field = np.zeros((self.n, self.n),dtype=int)\n",
    "        self.count_time_dirty_field = np.zeros((self.n, self.n),dtype=int)\n",
    "        self.prev_xy = (0,0)\n",
    "        self.xy = (0,0)\n",
    "        self.f[self.xy] = 5\n",
    "        self.count_be_field[self.xy] = 1\n",
    "        self.empty_fields = []\n",
    "        self.find_empty_fiels()\n",
    "        self.dirty_fields = []\n",
    "        self.see_cords = []\n",
    "        self.blocks_count = [(1,1),(0,2),(0,3),(0,4)]\n",
    "        self.corner_fields = [(0,0), (4,0), (0,4), (4,4)]\n",
    "        self.remember_previous_dirty_cords = []\n",
    "        \n",
    "        self.desired_way = [(1, 0), (1, 1), (1, 2), (1, 3), (1, 4),(2, 4),(3, 4),(3, 3), (3, 2), (3, 1), (3, 0),(2,0)]\n",
    "        self.desired_way_2 = [(0,1),(0,2),(0, 3), (1, 3), (2, 3), (3, 3), (4, 3),(4,2),(4, 1), (3, 1), (2, 1), (1, 1)]\n",
    "        self.variant_of_way = 1\n",
    "        self.curent_index = 0\n",
    "        self.direction_on_way = 1\n",
    "        \n",
    "        self.algo = algo\n",
    "        if self.debug_mode:\n",
    "            if self.algo:\n",
    "                print('Algo_2')\n",
    "            else:\n",
    "                print('Algo_1')\n",
    "        \n",
    "    def find_empty_fiels(self):\n",
    "        for i in range(self.n):\n",
    "                for j in range(self.n):\n",
    "                    if self.f[i,j] == 0:\n",
    "                        self.empty_fields.append((i,j))\n",
    "                        \n",
    "    def count_blocks(self):\n",
    "        self.blocks_count[0] = (self.count_be_field[:3,:3].sum(),1)\n",
    "        self.blocks_count[1] = (self.count_be_field[:3,2:].sum(),2)\n",
    "        self.blocks_count[2] = (self.count_be_field[2:,2:].sum(),3)\n",
    "        self.blocks_count[3] = (self.count_be_field[2:,:3].sum(),4)\n",
    "                                \n",
    "    def add_trash(self):\n",
    "        if np.random.rand() >= 0.5:\n",
    "            index_pos_trash = np.random.randint(0,len(self.empty_fields))\n",
    "            position_trash = self.empty_fields[index_pos_trash]\n",
    "            self.empty_fields.remove(position_trash)\n",
    "            self.f[position_trash] = 3\n",
    "            self.dirty_fields.append(position_trash)\n",
    "            if self.debug_mode:\n",
    "                print('trash added ',position_trash)\n",
    "        else:\n",
    "            if self.debug_mode:\n",
    "                print('trash NO added')\n",
    "    \n",
    "    def generate_see_cords(self):\n",
    "        x,y = self.xy\n",
    "        cords = []\n",
    "        if x+1 <self.n:\n",
    "            cords.append(((x+1,y),'b'))\n",
    "        if x-1 >= 0:\n",
    "            cords.append(((x-1,y),'u'))\n",
    "        if y+1 <self.n:\n",
    "            cords.append(((x,y+1),'r'))\n",
    "        if y-1 >= 0:\n",
    "            cords.append(((x,y-1),'l'))\n",
    "        self.see_cords = cords\n",
    "        \n",
    "    def choose_cord(self, cords = []):\n",
    "        res = []\n",
    "        for cord in cords:\n",
    "            count = self.count_be_field[cord[0]]\n",
    "            res.append((count, cord))\n",
    "        res.sort()\n",
    "        min_count_value = res[0][0]\n",
    "        min_cords = []\n",
    "        for res_cord in res:\n",
    "            if res_cord[0] == min_count_value:\n",
    "                min_cords.append(res_cord[1])\n",
    "        if len(min_cords) == 1:\n",
    "            if self.debug_mode:\n",
    "                print('cord_with_min_visit: ',res[0][1])\n",
    "            return res[0][1][0]\n",
    "        else:\n",
    "            return self.choose_in_global_cord(min_cords)\n",
    "        \n",
    "    def show_way(self):\n",
    "        res = np.zeros((self.n, self.n),dtype=int)\n",
    "        for cord in self.desired_way:\n",
    "            res[cord] = 5\n",
    "        for cord in self.desired_way_2:\n",
    "            res[cord] = 5\n",
    "        return res\n",
    "    \n",
    "    def choose_in_global_cord(self,cords=[]):\n",
    "        self.count_blocks()\n",
    "        self.blocks_count.sort()\n",
    "        min_count_block_value = self.blocks_count[0][0]\n",
    "        good_blocks = []\n",
    "        for cord in self.blocks_count:\n",
    "            if cord[0] == min_count_block_value:\n",
    "                good_blocks.append(cord)\n",
    "    \n",
    "        if self.debug_mode:\n",
    "            print('blocks_count',self.blocks_count)\n",
    "            print('good_blocks',good_blocks)\n",
    "        less_block = self.blocks_count[0][1]\n",
    "        if len(good_blocks) > 1:\n",
    "            less_block = good_blocks[np.random.randint(len(good_blocks))][1]\n",
    "        \n",
    "        if self.debug_mode:\n",
    "            print('less_block',less_block)\n",
    "        better_cords = []\n",
    "        for cord in cords:\n",
    "            if less_block == 1:\n",
    "                if cord[1] in ['u','l']:\n",
    "                    better_cords.append(cord)\n",
    "            if less_block == 2:\n",
    "                if cord[1] in ['u','r']:\n",
    "                    better_cords.append(cord)\n",
    "            if less_block == 3:\n",
    "                if cord[1] in ['b','r']:\n",
    "                    better_cords.append(cord)\n",
    "            if less_block == 4:\n",
    "                if cord[1] in ['b','l']:\n",
    "                    better_cords.append(cord)\n",
    "        \n",
    "        if self.debug_mode:\n",
    "            print('better_cords ',better_cords)\n",
    "        \n",
    "        if len(better_cords) == 1:\n",
    "            new_cord = better_cords[0]\n",
    "            if self.debug_mode:\n",
    "                print('chosen_cord (len=1): ', new_cord)\n",
    "            return new_cord[0]\n",
    "        \n",
    "        if len(better_cords) >= 2:\n",
    "            new_cord = better_cords[np.random.randint(2)]\n",
    "            if self.debug_mode:\n",
    "                print('chosen_cord (len>=2): ', new_cord)\n",
    "            return new_cord[0]\n",
    "        if len(better_cords) == 0:\n",
    "            new_cord = cords[np.random.randint(len(cords))]\n",
    "            if self.debug_mode:\n",
    "                print('chosen_cord (len=0): ', new_cord)\n",
    "            return new_cord[0]\n",
    "        \n",
    "                \n",
    "    def add_dirty_field_points(self):\n",
    "        for cord in self.dirty_fields:\n",
    "            self.count_time_dirty_field[cord] += 1\n",
    "            \n",
    "    def direction_to_cord(self, goal_cord=(2,2)):\n",
    "        direction_sign = (goal_cord[0]-self.xy[0], goal_cord[1]-self.xy[1])  #(1,-2)\n",
    "        good_direction = []\n",
    "        if direction_sign[0] < 0:\n",
    "            good_direction.append('u')\n",
    "        if direction_sign[0] > 0:\n",
    "            good_direction.append('b')\n",
    "        if direction_sign[1] > 0:\n",
    "            good_direction.append('r')\n",
    "        if direction_sign[1] < 0:\n",
    "            good_direction.append('l')\n",
    "            \n",
    "        cords_to_go = []\n",
    "        for cord in self.see_cords:\n",
    "            if cord[1] in good_direction:\n",
    "                cords_to_go.append(cord)\n",
    "        return cords_to_go\n",
    "        \n",
    "    def find_available_dirty_cords(self):\n",
    "        available_dirty_cords = []\n",
    "        \n",
    "        for cord in self.see_cords:\n",
    "            if cord[0] in self.dirty_fields:\n",
    "                available_dirty_cords.append(cord)\n",
    "                \n",
    "        if self.debug_mode:\n",
    "            print('available_dirty_cords', available_dirty_cords)\n",
    "                \n",
    "        return available_dirty_cords\n",
    "    \n",
    "    def get_next_index(self):\n",
    "        next_index = self.curent_index + self.direction_on_way\n",
    "        l = len(self.desired_way)\n",
    "        if next_index >= l:\n",
    "            next_index = 0\n",
    "        if next_index < 0:\n",
    "            next_index = l-1\n",
    "        return next_index\n",
    "    \n",
    "    def find_next_cord(self):\n",
    "        good_cords = []\n",
    "        for cord in self.see_cords:\n",
    "            if cord[0] != self.prev_xy:\n",
    "                if cord[0] not in self.corner_fields:\n",
    "                    good_cords.append(cord)\n",
    "        if self.debug_mode:\n",
    "            print('good_cords',good_cords)\n",
    "        next_cord = self.choose_cord(good_cords)\n",
    "        return next_cord\n",
    "\n",
    "    def move(self):\n",
    "        self.generate_see_cords()\n",
    "        next_cord = 0\n",
    "        \n",
    "        available_dirty_cords = self.find_available_dirty_cords()\n",
    "                \n",
    "        len_available_dirty_cords = len(available_dirty_cords)\n",
    "        if len_available_dirty_cords:\n",
    "            for cord in available_dirty_cords:\n",
    "                if cord[0] not in self.remember_previous_dirty_cords:\n",
    "                    self.remember_previous_dirty_cords.append(cord[0])\n",
    "            if len_available_dirty_cords >= 2:\n",
    "                #self.remember_previous_dirty = True\n",
    "                if self.debug_mode:\n",
    "                    print('Remember >=2 dirty')\n",
    "            \n",
    "            next_cord = self.choose_cord(available_dirty_cords)\n",
    "            self.dirty_fields.remove(next_cord)\n",
    "            self.remember_previous_dirty_cords.remove(next_cord)\n",
    "            \n",
    "        else:\n",
    "            next_cord = 0\n",
    "            if len(self.remember_previous_dirty_cords):\n",
    "                \n",
    "                goal_cord = self.remember_previous_dirty_cords[-1]\n",
    "                good_cords = self.direction_to_cord(goal_cord)\n",
    "                next_cord = self.choose_cord(good_cords)\n",
    "                if self.debug_mode:\n",
    "                    print('Return to remember dirty cord',goal_cord)\n",
    "                    print('Next cord: next_cord')\n",
    "                    \n",
    "            else:\n",
    "                if self.algo:\n",
    "                    if self.variant_of_way == 1:\n",
    "                        if self.xy in self.desired_way:\n",
    "                            self.curent_index = self.desired_way.index(self.xy)\n",
    "                            next_index = self.get_next_index()\n",
    "                            next_cord = self.desired_way[next_index]\n",
    "                            if self.debug_mode:\n",
    "                                print('On disired way',next_cord)\n",
    "                        elif self.xy in self.desired_way_2:\n",
    "                            self.variant_of_way = 2\n",
    "                            self.curent_index = self.desired_way_2.index(self.xy)\n",
    "                            next_index = self.get_next_index()\n",
    "                            next_cord = self.desired_way_2[next_index]\n",
    "                            if self.debug_mode:\n",
    "                                print('On disired way',next_cord)\n",
    "                                \n",
    "                        else:\n",
    "                            next_cord = self.find_next_cord()\n",
    "                            \n",
    "                    else:\n",
    "                        if self.xy in self.desired_way_2:\n",
    "                            self.curent_index = self.desired_way_2.index(self.xy)\n",
    "                            next_index = self.get_next_index()\n",
    "                            next_cord = self.desired_way_2[next_index]\n",
    "                            if self.debug_mode:\n",
    "                                print('On disired way',next_cord)\n",
    "                        elif self.xy in self.desired_way:\n",
    "                            self.variant_of_way = 1\n",
    "                            self.curent_index = self.desired_way.index(self.xy)\n",
    "                            next_index = self.get_next_index()\n",
    "                            next_cord = self.desired_way[next_index]\n",
    "                            if self.debug_mode:\n",
    "                                print('On disired way',next_cord)\n",
    "                                \n",
    "                        else:\n",
    "                            next_cord = self.find_next_cord()\n",
    "                else:\n",
    "                    next_cord = self.find_next_cord()\n",
    "            try:\n",
    "                self.empty_fields.remove(next_cord)\n",
    "            except:\n",
    "                pass\n",
    "            \n",
    "        \n",
    "        self.empty_fields.append(self.xy)\n",
    "        self.f[self.xy] = 0\n",
    "        self.prev_xy = self.xy\n",
    "        \n",
    "        self.xy = next_cord\n",
    "        self.f[self.xy] = 5\n",
    "        \n",
    "        self.count_be_field[self.xy] += 1\n",
    "        self.add_dirty_field_points()\n",
    "        \n",
    "    \n",
    "    def start(self):\n",
    "        for i in range(100):\n",
    "            clear_output(wait=True)\n",
    "            self.add_trash()\n",
    "            self.move()\n",
    "            for row in self.f:\n",
    "                print(row)\n",
    "            time.sleep(0.4)\n",
    "\n",
    "def show_matr(matr):\n",
    "    for row in matr:\n",
    "        print(row)"
   ]
  },
  {
   "cell_type": "markdown",
   "metadata": {},
   "source": [
    "# Напрямок руху пилососа"
   ]
  },
  {
   "attachments": {},
   "cell_type": "markdown",
   "metadata": {},
   "source": [
    "<img src='https://doc-04-7o-docs.googleusercontent.com/docs/securesc/of4kiavv5g4gksq5hd31gqp8mgj4vlcm/ph75485g3hr84272vbc73dbagjonl910/1547064000000/03496381133855143961/03496381133855143961/1aFBvbqTHiBMwj6Uzl5YfFTSPStp_AkfV?e=view&nonce=a61g3k3c18q34&user=03496381133855143961&hash=a61ed3v3qost922pvt9g4tobh8i2vh1p'>"
   ]
  },
  {
   "cell_type": "markdown",
   "metadata": {},
   "source": [
    "Реалізовано директивний рух з пам'яттю. "
   ]
  },
  {
   "cell_type": "markdown",
   "metadata": {},
   "source": [
    "## Демонстрація роботи алгоритму за 100 кроків"
   ]
  },
  {
   "cell_type": "code",
   "execution_count": 96,
   "metadata": {},
   "outputs": [
    {
     "name": "stdout",
     "output_type": "stream",
     "text": [
      "[0 0 5 0 0]\n",
      "[0 0 3 0 0]\n",
      "[0 0 0 0 0]\n",
      "[0 0 0 0 0]\n",
      "[0 0 0 0 3]\n"
     ]
    }
   ],
   "source": [
    "# Позначення:\n",
    "#   5 - пилосос\n",
    "#   3 - сміття\n",
    "\n",
    "VC = Magic_vacuum_cleaner()\n",
    "VC.start() "
   ]
  },
  {
   "cell_type": "markdown",
   "metadata": {},
   "source": [
    "# Результати"
   ]
  },
  {
   "cell_type": "markdown",
   "metadata": {},
   "source": [
    "### Отриманий результат для 1000 експериментів"
   ]
  },
  {
   "cell_type": "code",
   "execution_count": 106,
   "metadata": {},
   "outputs": [
    {
     "name": "stdout",
     "output_type": "stream",
     "text": [
      "Для 1000 експерементів в середньому ми отримуємо  3.967  клітинок з сміттям\n"
     ]
    }
   ],
   "source": [
    "vec_k = []\n",
    "res_move = np.zeros((5, 5),dtype=int)\n",
    "res_dirty = np.zeros((5, 5),dtype=int)\n",
    "for j in range(1000):\n",
    "    VC = Magic_vacuum_cleaner(algo=True)\n",
    "    for i in range(100):\n",
    "        VC.add_trash()\n",
    "        VC.move()\n",
    "    k = len(VC.dirty_fields)\n",
    "    res_move += VC.count_be_field\n",
    "    res_dirty += VC.count_time_dirty_field\n",
    "    vec_k.append(k)\n",
    "mean_k = np.array(vec_k).mean()\n",
    "\n",
    "print('Для 1000 експерементів в середньому ми отримуємо ',mean_k,' клітинок з сміттям')"
   ]
  },
  {
   "cell_type": "markdown",
   "metadata": {},
   "source": [
    "## Візуалізація -  які клітинки найчастіше відвідував пилосос"
   ]
  },
  {
   "cell_type": "code",
   "execution_count": 107,
   "metadata": {},
   "outputs": [
    {
     "data": {
      "image/png": "[encoded data removed]",
      "text/plain": [
       "<Figure size 432x288 with 2 Axes>"
      ]
     },
     "metadata": {},
     "output_type": "display_data"
    }
   ],
   "source": [
    "pl = snb.heatmap(res_move)"
   ]
  },
  {
   "cell_type": "markdown",
   "metadata": {},
   "source": [
    "## Візуалізація де найдовше часу залишалось сміття"
   ]
  },
  {
   "cell_type": "code",
   "execution_count": 108,
   "metadata": {},
   "outputs": [
    {
     "data": {
      "image/png": "[encoded data removed]",
      "text/plain": [
       "<Figure size 432x288 with 2 Axes>"
      ]
     },
     "metadata": {},
     "output_type": "display_data"
    }
   ],
   "source": [
    "pl = snb.heatmap(res_dirty)"
   ]
  }
 ],
 "metadata": {
  "kernelspec": {
   "display_name": "Python 3",
   "language": "python",
   "name": "python3"
  },
  "language_info": {
   "codemirror_mode": {
    "name": "ipython",
    "version": 3
   },
   "file_extension": ".py",
   "mimetype": "text/x-python",
   "name": "python",
   "nbconvert_exporter": "python",
   "pygments_lexer": "ipython3",
   "version": "3.6.5"
  }
 },
 "nbformat": 4,
 "nbformat_minor": 2
}
